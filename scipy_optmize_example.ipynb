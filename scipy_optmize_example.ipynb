{
 "cells": [
  {
   "cell_type": "code",
   "execution_count": 5,
   "metadata": {
    "collapsed": true,
    "pycharm": {
     "name": "#%%\n"
    }
   },
   "outputs": [],
   "source": [
    "from scipy.optimize import minimize_scalar, minimize, LinearConstraint\n",
    "import numpy as np\n",
    "\n"
   ]
  },
  {
   "cell_type": "markdown",
   "source": [
    "# Python3 SciPy\n",
    "\n",
    "This is a shortened version of RealPython\n",
    "Link: https://realpython.com/python-scipy-cluster-optimize/\n",
    "\n",
    "When you need to optimize the input parameters for a function, scipy.optimize contains a number of useful methods for optimizing different kinds of functions:\n",
    "\n",
    "* **minimize_scalar()** and **minimize()** to minimize a function of one variable and many variables, respectively\n",
    "* **curve_fit()** to fit a function to a set of data\n",
    "* **root_scalar()** and **root()** to find the zeros of a function of one variable and many variables, respectively\n",
    "* **linprog()** to minimize a linear objective function with linear inequality and equality constraints\n"
   ],
   "metadata": {
    "collapsed": false,
    "pycharm": {
     "name": "#%% md\n"
    }
   }
  },
  {
   "cell_type": "markdown",
   "source": [
    "## Minimizing a Function With One Variable\n",
    "\n",
    "A mathematical function that accepts one number and results in one output is called a scalar function. It’s usually\n",
    "contrasted with multivariate functions that accept multiple numbers and also result in multiple numbers of output.\n",
    "\n",
    "The scalar function is a quartic polynomial, and the objective is to find the minimum value of\n",
    "the function.\n",
    "\n",
    "The function is y = 3x⁴ - 2x + 1.\n",
    "\n",
    "The function is plotted in the image below for a range of x from 0 to 1:\n",
    "\n",
    "![one var chart](https://files.realpython.com/media/minimize_scalar.6858d6b6396f.png)\n",
    "\n",
    "There’s a minimum value of this function at approximately x = 0.55. You can use minimize_scalar() to determine the\n",
    "exact x and y coordinates of the minimum.\n",
    "\n",
    "* First, import minimize_scalar() from scipy.optimize.\n",
    "* Then, you need to define the objective function to be minimized:\n"
   ],
   "metadata": {
    "collapsed": false,
    "pycharm": {
     "name": "#%% md\n"
    }
   }
  },
  {
   "cell_type": "code",
   "execution_count": 3,
   "outputs": [],
   "source": [
    "def objective_function(x):\n",
    "    return 3 * x ** 4 - 2 * x + 1\n",
    "\n",
    "\n"
   ],
   "metadata": {
    "collapsed": false,
    "pycharm": {
     "name": "#%%\n"
    }
   }
  },
  {
   "cell_type": "markdown",
   "source": [
    "objective_function() takes the input x and applies the necessary mathematical operations to it, then returns the result.\n",
    "In the function definition, you can use any mathematical functions you want. The only limit is that the function must\n",
    "return a **single number at the end**.\n",
    "\n",
    "Next, use minimize_scalar() to find the minimum value of this function. minimize_scalar() has only one required input,\n",
    "which is the name of the objective function definition:\n"
   ],
   "metadata": {
    "collapsed": false,
    "pycharm": {
     "name": "#%% md\n"
    }
   }
  },
  {
   "cell_type": "code",
   "execution_count": 4,
   "outputs": [
    {
     "name": "stdout",
     "output_type": "stream",
     "text": [
      "     fun: 0.17451818777634331\n",
      "    nfev: 16\n",
      "     nit: 12\n",
      " success: True\n",
      "       x: 0.5503212087491959\n"
     ]
    }
   ],
   "source": [
    "res = minimize_scalar(objective_function)\n",
    "print(res)"
   ],
   "metadata": {
    "collapsed": false,
    "pycharm": {
     "name": "#%%\n"
    }
   }
  },
  {
   "cell_type": "markdown",
   "source": [
    "The optimum minimization value is x which is 0.55032120....\n",
    "\n",
    "### Returns:\n",
    "\n",
    "**OptimizeResult**\n",
    "The optimization result represented as a OptimizeResult object. Important attributes are: x the solution array, success\n",
    "a Boolean flag indicating if the optimizer exited successfully and message which describes the cause of the termination.\n",
    "See OptimizeResult for a description of other attributes.\n",
    "\n",
    "| Attribute | Description |\n",
    "| --- | --- |\n",
    "| fun | values of objective (jacobian and hessian) |\n",
    "| nfev | number of evaluations of the objective and of its Jacobian and Hessian |\n",
    "| nit | number of iteratiosn performed by the optimizer |\n",
    "| success | T or F whether or not the optimizer exited successfully |\n",
    "| x | the solution of the optimization |"
   ],
   "metadata": {
    "collapsed": false,
    "pycharm": {
     "name": "#%% md\n"
    }
   }
  },
  {
   "cell_type": "markdown",
   "source": [
    "## Minimizing a Function with Many Variables\n",
    "\n",
    "scipy.optimize also includes the more general minimize(). This function can handle multivariate inputs and outputs and\n",
    "has more complicated optimization algorithms to be able to handle this. In addition, minimize() can handle constraints\n",
    "on the solution to your problem. You can specify three types of constraints:\n",
    "\n",
    "1. **LinearConstraint**: The solution is constrained by taking the inner product of the solution x values with a\n",
    "user-input array and comparing the result to a lower and upper bound.\n",
    "\n",
    "2. **NonlinearConstraint**: The solution is constrained by applying a user-supplied function to the solution x values\n",
    "and comparing the return value with a lower and upper bound.\n",
    "\n",
    "3. **Bounds**: The solution x values are constrained to lie between a lower and upper bound.\n",
    "\n",
    "When you use these constraints, it can limit the specific choice of optimization method that you’re able to use, since\n",
    "not all of the available methods support constraints in this way.\n",
    "\n",
    "### DEMO\n",
    "\n",
    "How to use minimize().\n",
    "\n",
    "Imagine you’re a stockbroker who’s interested in maximizing the total income from the sale of a fixed number of your\n",
    "stocks. You have identified a particular set of buyers, and for each buyer, you know the price they’ll pay and how\n",
    "much cash they have on hand.\n",
    "\n",
    "You can phrase this problem as a **constrained optimization problem**. The objective function is that you want to\n",
    "maximize your income. However, minimize() finds the minimum value of a function, so you’ll need to multiply your\n",
    "objective function by -1 to find the x-values that produce the largest negative number.\n",
    "\n",
    "There is one constraint on the problem, which is that the sum of the total shares purchased by the buyers does not\n",
    "exceed the number of shares you have on hand. There are also bounds on each of the solution variables because each\n",
    "buyer has an upper bound of cash available, and a lower bound of zero. Negative solution x-values mean that you’d\n",
    "be paying the buyers!"
   ],
   "metadata": {
    "collapsed": false
   }
  },
  {
   "cell_type": "code",
   "execution_count": 6,
   "outputs": [],
   "source": [
    "# set a market of 10 buyers who’ll be buying 15 shares in total from you.\n",
    "n_buyers = 10\n",
    "n_shares = 15"
   ],
   "metadata": {
    "collapsed": false,
    "pycharm": {
     "name": "#%%\n"
    }
   }
  },
  {
   "cell_type": "markdown",
   "source": [
    "Create arrays to store\n",
    "\n",
    "* the price that each buyer pays\n",
    "* the maximum amount they can afford to spend\n",
    "* the maximum number of shares each buyer can afford, given the first two arrays.\n",
    "\n",
    "Use random number generation in np.random to generate the arrays:\n"
   ],
   "metadata": {
    "collapsed": false,
    "pycharm": {
     "name": "#%% md\n"
    }
   }
  },
  {
   "cell_type": "code",
   "execution_count": 7,
   "outputs": [],
   "source": [
    "np.random.seed(10)\n",
    "prices = np.random.random(n_buyers)\n",
    "money_available = np.random.randint(1, 4, n_buyers)"
   ],
   "metadata": {
    "collapsed": false,
    "pycharm": {
     "name": "#%%\n"
    }
   }
  },
  {
   "cell_type": "markdown",
   "source": [
    "In this code, you set the seed for NumPy’s random number generators. This function makes sure that each time you run\n",
    "this code, you’ll get the same set of random numbers.\n",
    "\n",
    "In line 7, you generate the array of prices the buyers will pay. np.random.random() creates an array of random numbers\n",
    "on the half-open interval [0, 1). The number of elements in the array is determined by the value of the argument,\n",
    "which in this case is the number of buyers.\n",
    "\n",
    "In line 8, you generate an array of integers on the half-open interval from [1, 4), again with the size of the number\n",
    "of buyers. This array represents the total cash each buyer has available. Now, you need to compute the maximum number\n",
    "of shares each buyer can purchase:\n",
    "\n"
   ],
   "metadata": {
    "collapsed": false,
    "pycharm": {
     "name": "#%% md\n"
    }
   }
  },
  {
   "cell_type": "code",
   "execution_count": 8,
   "outputs": [
    {
     "name": "stdout",
     "output_type": "stream",
     "text": [
      "[0.77132064 0.02075195 0.63364823 0.74880388 0.49850701 0.22479665\n",
      " 0.19806286 0.76053071 0.16911084 0.08833981]\n",
      "[1 1 1 3 1 3 3 2 1 1]\n",
      "[ 1.29647768 48.18824404  1.57816269  4.00638948  2.00598984 13.34539487\n",
      " 15.14670609  2.62974258  5.91328161 11.3199242 ]\n"
     ]
    }
   ],
   "source": [
    "n_shares_per_buyer = money_available / prices\n",
    "print(prices, money_available, n_shares_per_buyer, sep=\"\\n\")"
   ],
   "metadata": {
    "collapsed": false,
    "pycharm": {
     "name": "#%%\n"
    }
   }
  },
  {
   "cell_type": "markdown",
   "source": [
    "In line 9, you take the ratio of the money_available with prices to determine the maximum number of\n",
    "shares each buyer can purchase.\n",
    "\n",
    "The first row is the array of prices, which are floating-point numbers between 0 and 1. This row is followed by the\n",
    "maximum cash available in integers from 1 to 4. Finally, you see the number of shares each buyer can purchase.\n",
    "\n",
    "Create the constraints and bounds for the solver. The constraint is that the sum of the total purchased shares can’t\n",
    "exceed the total number of shares available. This is a constraint rather than a bound because it involves more than\n",
    "one of the solution variables.\n",
    "\n",
    "To represent this mathematically, you could say that\n",
    "```x[0] + x[1] + ... + x[n] = n_shares```\n",
    "where n is the total number of buyers. You could take the dot or inner product of a vector of ones\n",
    "with the solution values, and constrain that to be equal to n_shares. Remember that LinearConstraint takes the dot\n",
    "product of the input array with the solution values and compares it to the lower and upper bound. You can use this\n",
    "to set up the constraint on n_shares:\n"
   ],
   "metadata": {
    "collapsed": false,
    "pycharm": {
     "name": "#%% md\n"
    }
   }
  },
  {
   "cell_type": "code",
   "execution_count": 9,
   "outputs": [],
   "source": [
    "constraint = LinearConstraint(np.ones(n_buyers), lb=n_shares, ub=n_shares)\n"
   ],
   "metadata": {
    "collapsed": false,
    "pycharm": {
     "name": "#%%\n"
    }
   }
  },
  {
   "cell_type": "markdown",
   "source": [
    "Create an array of ones with the length n_buyers and pass it as the first argument to LinearConstraint. Since\n",
    "LinearConstraint takes the dot product of the solution vector with this argument, it’ll result in the sum of the\n",
    "purchased shares.\n",
    "\n",
    "This result is then constrained to lie between the other two arguments:\n",
    "\n",
    "* The lower bound lb\n",
    "* The upper bound ub\n",
    "\n",
    "Since lb = ub = n_shares, this is an equality constraint because the sum of the values must be equal to both lb and ub.\n",
    "If lb were different from ub, then it would be an inequality constraint.\n",
    "\n",
    "Next, create the bounds for the solution variable. The bounds limit the number of shares purchased to be 0 on the\n",
    "lower side and n_shares_per_buyer on the upper side. The format that minimize() expects for the bounds is a sequence\n",
    "of tuples of lower and upper bounds:"
   ],
   "metadata": {
    "collapsed": false,
    "pycharm": {
     "name": "#%% md\n"
    }
   }
  },
  {
   "cell_type": "code",
   "execution_count": 10,
   "outputs": [],
   "source": [
    "bounds = [(0, n) for n in n_shares_per_buyer]"
   ],
   "metadata": {
    "collapsed": false,
    "pycharm": {
     "name": "#%%\n"
    }
   }
  },
  {
   "cell_type": "markdown",
   "source": [
    "n this code, you use a comprehension to generate a list of tuples for each buyer. The last step before you run\n",
    "the optimization is to define the objective function. Recall that you’re trying to maximize your income.\n",
    "Equivalently, you want to make the negative of your income as large a negative number as possible.\n",
    "\n",
    "The income that you generate from each sale is the price that the buyer pays multiplied by the number of shares\n",
    "they’re buying. Mathematically, you could write this as\n",
    "\n",
    "```prices[0]*x[0] + prices[1]*x[1] + ... + prices[n]*x[n]```\n",
    "\n",
    "where n is again the total number of buyers.\n",
    "\n",
    "Once again, you can represent this more succinctly with the inner product, or x.dot(prices). This means that your\n",
    "objective function should take the current solution values x and the array of prices as arguments:\n"
   ],
   "metadata": {
    "collapsed": false,
    "pycharm": {
     "name": "#%% md\n"
    }
   }
  },
  {
   "cell_type": "code",
   "execution_count": 11,
   "outputs": [],
   "source": [
    "def objective_function(x, prices):\n",
    "    return -x.dot(prices)"
   ],
   "metadata": {
    "collapsed": false,
    "pycharm": {
     "name": "#%%\n"
    }
   }
  },
  {
   "cell_type": "markdown",
   "source": [
    "In this code, you define objective_function() to take two arguments. Then you take the dot product of x with\n",
    "prices and return the negative of that value. Remember that you have to return the negative because you’re trying\n",
    "to make that number as small as possible, or as close to negative infinity as possible. Finally, you\n",
    "can call minimize():\n"
   ],
   "metadata": {
    "collapsed": false,
    "pycharm": {
     "name": "#%% md\n"
    }
   }
  },
  {
   "cell_type": "code",
   "execution_count": 16,
   "outputs": [
    {
     "name": "stdout",
     "output_type": "stream",
     "text": [
      "     fun: -8.783020157087684\n",
      "     jac: array([-0.7713207 , -0.02075195, -0.63364828, -0.74880397, -0.49850702,\n",
      "       -0.22479665, -0.1980629 , -0.76053071, -0.16911077, -0.08833981])\n",
      " message: 'Optimization terminated successfully'\n",
      "    nfev: 176\n",
      "     nit: 16\n",
      "    njev: 16\n",
      "  status: 0\n",
      " success: True\n",
      "       x: array([1.29647768e+00, 1.75304187e-15, 1.57816269e+00, 4.00638948e+00,\n",
      "       2.00598984e+00, 3.48323773e+00, 5.44009282e-15, 2.62974258e+00,\n",
      "       6.36407929e-15, 1.67391737e-15])\n"
     ]
    }
   ],
   "source": [
    "res = minimize(\n",
    "    objective_function,\n",
    "    x0=10 * np.random.random(n_buyers),\n",
    "    args=(prices,),\n",
    "    constraints=constraint,\n",
    "    bounds=bounds,\n",
    ")\n",
    "print(res)"
   ],
   "metadata": {
    "collapsed": false,
    "pycharm": {
     "name": "#%%\n"
    }
   }
  },
  {
   "cell_type": "markdown",
   "source": [
    "The call to minimize(), you pass five arguments:\n",
    "\n",
    "1. objective_function: The first positional argument must be the function that you’re optimizing.\n",
    "\n",
    "2. x0: The next argument is an initial guess for the values of the solution. In this case, you’re just providing\n",
    "a random array of values between 0 and 10, with the length of n_buyers. For some algorithms or some problems,\n",
    "choosing an appropriate initial guess may be important. However, for this example, it doesn’t seem too important.\n",
    "\n",
    "3. args: The next argument is a tuple of other arguments that are necessary to be passed into the objective function.\n",
    "minimize() will always pass the current value of the solution x into the objective function, so this argument serves\n",
    "as a place to collect any other input necessary. In this example, you need to pass prices to objective_function(),\n",
    "so that goes here.\n",
    "\n",
    "4. constraints: The next argument is a sequence of constraints on the problem. You’re passing the constraint you\n",
    "generated earlier on the number of available shares.\n",
    "\n",
    "5. bounds: The last argument is the sequence of bounds on the solution variables that you generated earlier.\n",
    "\n",
    "## Output\n",
    "\n",
    "You can see message and status indicating the final state of the optimization. For this optimizer, a status of 0\n",
    "means the optimization terminated successfully, which you can also see in the message. Since the optimization was\n",
    "successful, fun shows the value of the objective function at the optimized solution values. You’ll make an\n",
    "income of $8.78 from this sale.\n",
    "\n",
    "You can see the values of x that optimize the function in res.x. In this case, the result is that you should sell\n",
    "about 1.3 shares to the first buyer, zero to the second buyer, 1.6 to the third buyer, 4.0 to the fourth, and so on.\n",
    "\n",
    "You should also check and make sure that the constraints and bounds that you set are satisfied. You\n",
    "can do this with the following code:"
   ],
   "metadata": {
    "collapsed": false,
    "pycharm": {
     "name": "#%% md\n"
    }
   }
  },
  {
   "cell_type": "code",
   "execution_count": 17,
   "outputs": [
    {
     "name": "stdout",
     "output_type": "stream",
     "text": [
      "The total number of shares is: 15.0\n",
      "Leftover money for each buyer: [8.88178420e-16 1.00000000e+00 4.32986980e-15 7.99360578e-15\n",
      " 2.77555756e-15 2.21697984e+00 3.00000000e+00 8.65973959e-15\n",
      " 1.00000000e+00 1.00000000e+00]\n"
     ]
    }
   ],
   "source": [
    "print(\"The total number of shares is:\", sum(res.x))\n",
    "print(\"Leftover money for each buyer:\", money_available - res.x * prices)"
   ],
   "metadata": {
    "collapsed": false,
    "pycharm": {
     "name": "#%%\n"
    }
   }
  },
  {
   "cell_type": "code",
   "execution_count": null,
   "outputs": [],
   "source": [],
   "metadata": {
    "collapsed": false,
    "pycharm": {
     "name": "#%%\n"
    }
   }
  }
 ],
 "metadata": {
  "kernelspec": {
   "display_name": "Python 3",
   "language": "python",
   "name": "python3"
  },
  "language_info": {
   "codemirror_mode": {
    "name": "ipython",
    "version": 2
   },
   "file_extension": ".py",
   "mimetype": "text/x-python",
   "name": "python",
   "nbconvert_exporter": "python",
   "pygments_lexer": "ipython2",
   "version": "2.7.6"
  }
 },
 "nbformat": 4,
 "nbformat_minor": 0
}